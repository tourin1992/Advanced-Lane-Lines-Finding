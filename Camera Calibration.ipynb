{
 "cells": [
  {
   "cell_type": "code",
   "execution_count": 12,
   "metadata": {},
   "outputs": [],
   "source": [
    "import pickle\n",
    "import cv2\n",
    "import numpy as np\n",
    "import matplotlib.pyplot as plt\n",
    "import matplotlib.image as mpimg\n",
    "import os\n",
    "\n",
    "list_image=os.listdir(\"camera_cal/\")\n",
    "#print(list_image)\n",
    "objp=np.zeros((6*9,3),np.float32)\n",
    "objp[:,:2]=np.mgrid[0:9,0:6].T.reshape(-1,2)\n",
    "objpoints=[]\n",
    "imgpoints=[]\n",
    "for name in list_image:\n",
    "    image=mpimg.imread(\"camera_cal/\"+name)\n",
    "    gray=cv2.cvtColor(image,cv2.COLOR_BGR2GRAY)\n",
    "    ret, corners=cv2.findChessboardCorners(gray,(9,6),None)\n",
    "    if ret==True:\n",
    "        objpoints.append(objp)\n",
    "        imgpoints.append(corners)\n",
    "        img=cv2.drawChessboardCorners(image,(9,6),corners,ret)\n",
    "        cv2.imwrite(\"output_images/output_\"+name,img)\n",
    "        #plt.imshow(img)\n",
    "image=cv2.imread('camera_cal/calibration1.jpg')\n",
    "img_size=(image.shape[1],image.shape[0])\n",
    "ret,mtx,dist,rvecs,tvecs=cv2.calibrateCamera(objpoints,imgpoints,gray.shape[::-1],None,None)\n",
    "dist_pickle={}\n",
    "dist_pickle['mtx']=mtx\n",
    "dist_pickle['dist']=dist\n",
    "pickle.dump(dist_pickle,open('calibration_pickel.p','wb'))\n"
   ]
  },
  {
   "cell_type": "code",
   "execution_count": null,
   "metadata": {},
   "outputs": [],
   "source": []
  }
 ],
 "metadata": {
  "kernelspec": {
   "display_name": "Python 3",
   "language": "python",
   "name": "python3"
  },
  "language_info": {
   "codemirror_mode": {
    "name": "ipython",
    "version": 3
   },
   "file_extension": ".py",
   "mimetype": "text/x-python",
   "name": "python",
   "nbconvert_exporter": "python",
   "pygments_lexer": "ipython3",
   "version": "3.5.2"
  },
  "widgets": {
   "state": {},
   "version": "1.1.2"
  }
 },
 "nbformat": 4,
 "nbformat_minor": 2
}
